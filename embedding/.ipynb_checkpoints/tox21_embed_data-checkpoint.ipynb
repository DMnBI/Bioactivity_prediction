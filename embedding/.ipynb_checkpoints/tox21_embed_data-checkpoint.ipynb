{
 "cells": [
  {
   "cell_type": "code",
   "execution_count": 1,
   "id": "43bdea69",
   "metadata": {},
   "outputs": [],
   "source": [
    "# TOX21\n",
    "tox21_tasks = ['NR-AR', 'NR-AR-LBD', 'NR-AhR', 'NR-Aromatase', 'NR-ER', 'NR-ER-LBD','NR-PPAR-gamma', \n",
    "               'SR-ARE', 'SR-ATAD5', 'SR-HSE', 'SR-MMP', 'SR-p53']"
   ]
  },
  {
   "cell_type": "code",
   "execution_count": 2,
   "id": "ca3a36ff",
   "metadata": {
    "scrolled": true
   },
   "outputs": [
    {
     "name": "stderr",
     "output_type": "stream",
     "text": [
      "[20:24:56] WARNING: not removing hydrogen atom without neighbors\n"
     ]
    }
   ],
   "source": [
    "# load splitted csv data\n",
    "import deepchem as dc\n",
    "\n",
    "loader = dc.data.CSVLoader(tox21_tasks, id_field=[\"ID\"], feature_field=\"SMILES\", featurizer=dc.feat.CircularFingerprint())\n",
    "\n",
    "ecfp_train = loader.create_dataset('../data/split_data/tox21_train.csv')\n",
    "ecfp_valid = loader.create_dataset('../data/split_data/tox21_valid.csv')\n",
    "ecfp_test = loader.create_dataset('../data/split_data/tox21_test.csv')"
   ]
  },
  {
   "cell_type": "code",
   "execution_count": 3,
   "id": "59eeaff1",
   "metadata": {},
   "outputs": [],
   "source": [
    "# ID\n",
    "id_train = ecfp_train.ids\n",
    "id_valid = ecfp_valid.ids\n",
    "id_test = ecfp_test.ids\n",
    "# ECFP\n",
    "ecfp_train = ecfp_train.X\n",
    "ecfp_valid = ecfp_valid.X\n",
    "ecfp_test = ecfp_test.X"
   ]
  },
  {
   "cell_type": "code",
   "execution_count": 4,
   "id": "8e619b02",
   "metadata": {},
   "outputs": [],
   "source": [
    "# tensorflow gpu \n",
    "import os\n",
    "import sys\n",
    "os.environ[\"CUDA_DEVICE_ORDER\"] = \"PCI_BUS_ID\"\n",
    "os.environ[\"CUDA_VISIBLE_DEVICES\"] = \"3\"\n",
    "sys.path.append('../code/')\n",
    "\n",
    "import tensorflow as tf\n",
    "gpus = tf.config.experimental.list_physical_devices('GPU')\n",
    "if gpus:\n",
    "    try:\n",
    "        tf.config.experimental.set_virtual_device_configuration(gpus[0], [tf.config.experimental.VirtualDeviceConfiguration(memory_limit=1024*10)])\n",
    "    except RuntimeError as e:\n",
    "        print(e)\n",
    "from tensorflow.keras import backend as K\n",
    "from tensorflow.keras.backend import clear_session"
   ]
  },
  {
   "cell_type": "code",
   "execution_count": 5,
   "id": "bbdeb783",
   "metadata": {},
   "outputs": [],
   "source": [
    "# load preprocessed numpy data\n",
    "import model_util\n",
    "\n",
    "#faeture, label\n",
    "train_feature, label_train = model_util.load_data('tox21', 'train')\n",
    "valid_feature, label_valid = model_util.load_data('tox21', 'valid')\n",
    "test_feature, label_test = model_util.load_data('tox21', 'test')"
   ]
  },
  {
   "cell_type": "code",
   "execution_count": 6,
   "id": "ed60669c",
   "metadata": {},
   "outputs": [],
   "source": [
    "import numpy as np\n",
    "\n",
    "def custom_run_batch(data, size, func):\n",
    "    result = []\n",
    "    for i in range(len(data[0])//size):\n",
    "        result.append(func([data[j][i*size:i*size+size] for j in range(len(data))])[0])\n",
    "    result.append(func([data[j][i*size+size:len(data[0])] for j in range(len(data))])[0])\n",
    "    \n",
    "    return np.concatenate(result)"
   ]
  },
  {
   "cell_type": "code",
   "execution_count": 7,
   "id": "07bf9795",
   "metadata": {},
   "outputs": [],
   "source": [
    "# Single\n",
    "import model_frame\n",
    "import data_config as cf\n",
    "\n",
    "single_train_list = []\n",
    "single_valid_list = []\n",
    "single_test_list = []\n",
    "\n",
    "for i in range(len(tox21_tasks)):\n",
    "    model = model_frame.make_model(1)\n",
    "    model_name = 'tox21_single_'+str(i)\n",
    "\n",
    "    model.load_weights(os.path.join(cf.result_dir, model_name+'.h5'))\n",
    "    get_layer_output = K.function([model.input], \n",
    "                                  [model.get_layer('i_out0').output])\n",
    "    \n",
    "    single_train_list.append(custom_run_batch(train_feature, 2048, get_layer_output))\n",
    "    single_valid_list.append(custom_run_batch(valid_feature, 512, get_layer_output))\n",
    "    single_test_list.append(custom_run_batch(test_feature, 512, get_layer_output))\n",
    "    \n",
    "    clear_session()"
   ]
  },
  {
   "cell_type": "code",
   "execution_count": 8,
   "id": "216d0385",
   "metadata": {},
   "outputs": [],
   "source": [
    "# Multi\n",
    "multi_train_list = []\n",
    "multi_valid_list = []\n",
    "multi_test_list = []\n",
    "\n",
    "model = model_frame.make_model(len(tox21_tasks))\n",
    "model_name = 'tox21_multi'\n",
    "model.load_weights(os.path.join(cf.result_dir, model_name+'.h5'))\n",
    "\n",
    "for i in range(len(tox21_tasks)):\n",
    "    get_layer_output = K.function([model.input], \n",
    "                                  [model.get_layer('i_out'+str(i)).output])\n",
    "    \n",
    "    multi_train_list.append(custom_run_batch(train_feature, 2048, get_layer_output))\n",
    "    multi_valid_list.append(custom_run_batch(valid_feature, 512, get_layer_output))\n",
    "    multi_test_list.append(custom_run_batch(test_feature, 512, get_layer_output))\n",
    "    \n",
    "    clear_session()"
   ]
  },
  {
   "cell_type": "code",
   "execution_count": 9,
   "id": "ac2b8280",
   "metadata": {},
   "outputs": [],
   "source": [
    "# Multi\n",
    "model = model_frame.make_model(len(tox21_tasks))\n",
    "model_name = 'tox21_multi'\n",
    "model.load_weights(os.path.join(cf.result_dir, model_name+'.h5'))\n",
    "\n",
    "get_layer_output = K.function([model.input], \n",
    "                              [model.get_layer('dense_5').output])\n",
    "    \n",
    "multi_train = custom_run_batch(train_feature, 2048, get_layer_output)\n",
    "multi_valid = custom_run_batch(valid_feature, 512, get_layer_output)\n",
    "multi_test = custom_run_batch(test_feature, 512, get_layer_output)\n",
    "\n",
    "clear_session()"
   ]
  },
  {
   "cell_type": "code",
   "execution_count": 10,
   "id": "29b14ff1",
   "metadata": {},
   "outputs": [],
   "source": [
    "# NR\n",
    "NR_train_list = []\n",
    "NR_valid_list = []\n",
    "NR_test_list = []\n",
    "\n",
    "model = model_frame.make_model(7)\n",
    "model_name = 'tox21_NR'\n",
    "model.load_weights(os.path.join(cf.result_dir, model_name+'.h5'))\n",
    "\n",
    "for i in range(7):\n",
    "    get_layer_output = K.function([model.input], \n",
    "                                  [model.get_layer('i_out'+str(i)).output])\n",
    "    \n",
    "    NR_train_list.append(custom_run_batch(train_feature, 2048, get_layer_output))\n",
    "    NR_valid_list.append(custom_run_batch(valid_feature, 512, get_layer_output))\n",
    "    NR_test_list.append(custom_run_batch(test_feature, 512, get_layer_output))\n",
    "    \n",
    "    clear_session()"
   ]
  },
  {
   "cell_type": "code",
   "execution_count": 11,
   "id": "5a416078",
   "metadata": {},
   "outputs": [],
   "source": [
    "# SR\n",
    "SR_train_list = []\n",
    "SR_valid_list = []\n",
    "SR_test_list = []\n",
    "\n",
    "model = model_frame.make_model(5)\n",
    "model_name = 'tox21_SR'\n",
    "model.load_weights(os.path.join(cf.result_dir, model_name+'.h5'))\n",
    "\n",
    "for i in range(5):\n",
    "    get_layer_output = K.function([model.input], \n",
    "                                  [model.get_layer('i_out'+str(i)).output])\n",
    "    \n",
    "    SR_train_list.append(custom_run_batch(train_feature, 2048, get_layer_output))\n",
    "    SR_valid_list.append(custom_run_batch(valid_feature, 512, get_layer_output))\n",
    "    SR_test_list.append(custom_run_batch(test_feature, 512, get_layer_output))\n",
    "    \n",
    "    clear_session()"
   ]
  },
  {
   "cell_type": "code",
   "execution_count": 12,
   "id": "6c5e051f",
   "metadata": {},
   "outputs": [],
   "source": [
    "np.savez_compressed('./tox21_embed_data/'+'id', \n",
    "                    train = id_train, \n",
    "                    valid = id_valid, \n",
    "                    test = id_test)\n",
    "\n",
    "np.savez_compressed('./tox21_embed_data/'+'label', \n",
    "                    train = label_train, \n",
    "                    valid = label_valid, \n",
    "                    test = label_test)\n",
    "\n",
    "np.savez_compressed('./tox21_embed_data/'+'ecfp', \n",
    "                    train = ecfp_train, \n",
    "                    valid = ecfp_valid, \n",
    "                    test = ecfp_test)\n",
    "\n",
    "for i in range(len(tox21_tasks)):\n",
    "    np.savez_compressed('./tox21_embed_data/'+'single'+str(i), \n",
    "                        train = single_train_list[i], \n",
    "                        valid = single_valid_list[i],\n",
    "                        test = single_test_list[i])\n",
    "    np.savez_compressed('./tox21_embed_data/'+'multi'+str(i), \n",
    "                        train = multi_train_list[i], \n",
    "                        valid = multi_valid_list[i],\n",
    "                        test = multi_test_list[i])\n",
    "\n",
    "for i in range(7):\n",
    "    np.savez_compressed('./tox21_embed_data/'+'NR'+str(i), \n",
    "                        train = NR_train_list[i], \n",
    "                        valid = NR_valid_list[i],\n",
    "                        test = NR_test_list[i])\n",
    "\n",
    "for i in range(5):\n",
    "    np.savez_compressed('./tox21_embed_data/'+'SR'+str(i), \n",
    "                        train = SR_train_list[i], \n",
    "                        valid = SR_valid_list[i],\n",
    "                        test = SR_test_list[i])\n",
    "    \n",
    "np.savez_compressed('./tox21_embed_data/'+'multi', \n",
    "                    train = multi_train, \n",
    "                    valid = multi_valid, \n",
    "                    test = multi_test)\n",
    "\n",
    "exit()"
   ]
  }
 ],
 "metadata": {
  "kernelspec": {
   "display_name": "Python 3",
   "language": "python",
   "name": "python3"
  },
  "language_info": {
   "codemirror_mode": {
    "name": "ipython",
    "version": 3
   },
   "file_extension": ".py",
   "mimetype": "text/x-python",
   "name": "python",
   "nbconvert_exporter": "python",
   "pygments_lexer": "ipython3",
   "version": "3.8.5"
  }
 },
 "nbformat": 4,
 "nbformat_minor": 5
}
