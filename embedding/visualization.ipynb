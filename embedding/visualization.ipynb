{
 "cells": [
  {
   "cell_type": "code",
   "execution_count": 1,
   "id": "35dc195b",
   "metadata": {},
   "outputs": [],
   "source": [
    "# Load Tox21 Data\n",
    "import numpy as np\n",
    "\n",
    "tasks = ['NR-AR', 'NR-AR-LBD', 'NR-AhR', 'NR-Aromatase', 'NR-ER', 'NR-ER-LBD','NR-PPAR-gamma', \n",
    "         'SR-ARE', 'SR-ATAD5', 'SR-HSE', 'SR-MMP', 'SR-p53']\n",
    "\n",
    "ids = np.load('./tox21_embed_data/'+'id'+'.npz', allow_pickle=True)\n",
    "label = np.load('./tox21_embed_data/'+'label'+'.npz', allow_pickle=True)\n",
    "\n",
    "single_list = []\n",
    "multi_list = []\n",
    "for i in range(12):\n",
    "    single_list.append(np.load('./tox21_embed_data/'+'single'+str(i)+'.npz', allow_pickle=True))\n",
    "    multi_list.append(np.load('./tox21_embed_data/'+'multi'+str(i)+'.npz', allow_pickle=True))\n",
    "NR_list = []\n",
    "SR_list = []\n",
    "for i in range(7):\n",
    "    NR_list.append(np.load('./tox21_embed_data/'+'NR'+str(i)+'.npz', allow_pickle=True))\n",
    "for i in range(5):\n",
    "    SR_list.append(np.load('./tox21_embed_data/'+'SR'+str(i)+'.npz', allow_pickle=True))"
   ]
  },
  {
   "cell_type": "code",
   "execution_count": 2,
   "id": "21410637",
   "metadata": {},
   "outputs": [],
   "source": [
    "# PCA\n",
    "from sklearn.preprocessing import StandardScaler\n",
    "from sklearn.decomposition import PCA\n",
    "\n",
    "def get_pca3d(data):\n",
    "    x = StandardScaler().fit_transform(data)\n",
    "    pca = PCA(n_components=3)\n",
    "    out = pca.fit_transform(x)\n",
    "    print(pca.explained_variance_ratio_)\n",
    "    return out[:,0], out[:,1], out[:,2]"
   ]
  },
  {
   "cell_type": "code",
   "execution_count": 3,
   "id": "bb7e78bb",
   "metadata": {},
   "outputs": [],
   "source": [
    "# Data Frame\n",
    "import pandas as pd\n",
    "\n",
    "def make_PCA_dataframe(cid, feature, label, domain_name):\n",
    "    pc1, pc2, pc3 = get_pca3d(feature)\n",
    "    \n",
    "    domain_names = [domain_name] * len(cid)\n",
    "    \n",
    "    df = pd.DataFrame({'id':cid, 'pc1':pc1, 'pc2':pc2, 'pc3':pc3, 'label':label, 'domain':domain_names})\n",
    "    return df"
   ]
  },
  {
   "cell_type": "code",
   "execution_count": 4,
   "id": "709c3708",
   "metadata": {},
   "outputs": [],
   "source": [
    "# Visualize\n",
    "# %matplotlib inline\n",
    "%matplotlib notebook\n",
    "import matplotlib.pyplot as plt\n",
    "from matplotlib import animation\n",
    "\n",
    "def draw_anim(ids, feature, label, idx):\n",
    "    train = make_PCA_dataframe(ids['train'], feature['train'], label['train'][:,idx], 'train')\n",
    "    valid = make_PCA_dataframe(ids['valid'], feature['valid'], label['valid'][:,idx], 'valid')\n",
    "    test = make_PCA_dataframe(ids['test'], feature['test'], label['test'][:,idx], 'test')\n",
    "    df = pd.concat([train, valid, test])\n",
    "    \n",
    "    titles = ['train', 'valid', 'test']\n",
    "    fig, axs = plt.subplots(figsize=(5,15),\n",
    "                            dpi=300,\n",
    "                            nrows=3,\n",
    "                            subplot_kw={\"projection\":\"3d\"})\n",
    "\n",
    "    for idx, ax in enumerate(axs):\n",
    "        ax.set_title(titles[idx], fontsize=15)\n",
    "        ax.xaxis.set_tick_params(labelsize=10)\n",
    "        ax.yaxis.set_tick_params(labelsize=10)\n",
    "        ax.zaxis.set_tick_params(labelsize=10)\n",
    "        ax.set_xlim(df['pc1'].min(), df['pc1'].max())\n",
    "        ax.set_ylim(df['pc2'].min(), df['pc2'].max())\n",
    "        ax.set_zlim(df['pc3'].min(), df['pc3'].max())\n",
    "    \n",
    "    def drawScatter(ax, data, d_name): \n",
    "        colors = ['r', 'b']\n",
    "        for i in [0, 1]: \n",
    "            x = data[(data['domain']==d_name) & (data['label']==i)]['pc1']\n",
    "            y = data[(data['domain']==d_name) & (data['label']==i)]['pc2']\n",
    "            z = data[(data['domain']==d_name) & (data['label']==i)]['pc3']\n",
    "            ax.scatter(x, y, z, c=colors[i], s=1, marker=\".\")\n",
    "    \n",
    "    def init():\n",
    "        for idx, ax in enumerate(axs):\n",
    "            drawScatter(ax, df, titles[idx])\n",
    "        return fig,\n",
    "    \n",
    "    def animate(i):\n",
    "        axs[0].view_init(elev=30., azim=i)\n",
    "        axs[1].view_init(elev=30., azim=i)\n",
    "        axs[2].view_init(elev=30., azim=i)\n",
    "        return fig,\n",
    "    \n",
    "    return animation.FuncAnimation(fig, animate, init_func=init, frames=360, interval=20, blit=True)"
   ]
  },
  {
   "cell_type": "code",
   "execution_count": 5,
   "id": "fb464db2",
   "metadata": {},
   "outputs": [],
   "source": [
    "# Task idx\n",
    "task_idx = 0"
   ]
  },
  {
   "cell_type": "code",
   "execution_count": 8,
   "id": "93f1039f",
   "metadata": {
    "scrolled": false
   },
   "outputs": [],
   "source": [
    "# Single\n",
    "# ani_single = draw_anim(ids, single_list[task_idx], label, task_idx)\n",
    "# ani_single.save('./result/single_task_'+str(task_idx)+'.gif', fps=30)"
   ]
  },
  {
   "cell_type": "code",
   "execution_count": 10,
   "id": "4b39e0ab",
   "metadata": {
    "scrolled": false
   },
   "outputs": [],
   "source": [
    "# Multi\n",
    "# ani_multi = draw_anim(ids, multi_list[task_idx], label, task_idx)\n",
    "# ani_multi.save('./result/multi_task_'+str(task_idx)+'.gif', fps=30)"
   ]
  },
  {
   "cell_type": "code",
   "execution_count": 12,
   "id": "4e258ed3",
   "metadata": {
    "scrolled": false
   },
   "outputs": [],
   "source": [
    "# NR / SR\n",
    "# if task_idx < 7:\n",
    "#     ani_NR = draw_anim(ids, NR_list[task_idx], label, task_idx)\n",
    "#     ani_NR.save('./result/NR_task_'+str(task_idx)+'.gif', fps=30)\n",
    "# else:\n",
    "#     task_idx -= 7\n",
    "#     ani_SR = draw_anim(ids, SR_list[task_idx], label, task_idx)\n",
    "#     ani_SR.save('./result/SR_task_'+str(task_idx)+'.gif', fps=30)"
   ]
  },
  {
   "cell_type": "code",
   "execution_count": 14,
   "id": "8f1bf541",
   "metadata": {},
   "outputs": [],
   "source": [
    "# Visualize\n",
    "# %matplotlib inline\n",
    "%matplotlib notebook\n",
    "import matplotlib.pyplot as plt\n",
    "from matplotlib import animation\n",
    "\n",
    "def draw(ids, feature, label, idx, angle):\n",
    "    train = make_PCA_dataframe(ids['train'], feature['train'], label['train'][:,idx], 'train')\n",
    "    valid = make_PCA_dataframe(ids['valid'], feature['valid'], label['valid'][:,idx], 'valid')\n",
    "    test = make_PCA_dataframe(ids['test'], feature['test'], label['test'][:,idx], 'test')\n",
    "    df = pd.concat([train, valid, test])\n",
    "    \n",
    "    titles = ['train', 'valid', 'test']\n",
    "    fig, axs = plt.subplots(figsize=(5,15),\n",
    "                            dpi=300,\n",
    "                            nrows=3,\n",
    "                            subplot_kw={\"projection\":\"3d\"})\n",
    "\n",
    "    for idx, ax in enumerate(axs):\n",
    "        ax.set_title(titles[idx], fontsize=15)\n",
    "        ax.xaxis.set_tick_params(labelsize=10)\n",
    "        ax.yaxis.set_tick_params(labelsize=10)\n",
    "        ax.zaxis.set_tick_params(labelsize=10)\n",
    "        ax.set_xlim(df['pc1'].min(), df['pc1'].max())\n",
    "        ax.set_ylim(df['pc2'].min(), df['pc2'].max())\n",
    "        ax.set_zlim(df['pc3'].min(), df['pc3'].max())\n",
    "        ax.view_init(elev=30., azim=angle)\n",
    "    \n",
    "    def drawScatter(ax, data, d_name): \n",
    "        colors = ['r', 'b']\n",
    "        for i in [0, 1]: \n",
    "            x = data[(data['domain']==d_name) & (data['label']==i)]['pc1']\n",
    "            y = data[(data['domain']==d_name) & (data['label']==i)]['pc2']\n",
    "            z = data[(data['domain']==d_name) & (data['label']==i)]['pc3']\n",
    "            ax.scatter(x, y, z, c=colors[i], s=4, marker=\".\")\n",
    "            \n",
    "    for idx, ax in enumerate(axs):\n",
    "        drawScatter(ax, df, titles[idx])"
   ]
  },
  {
   "cell_type": "code",
   "execution_count": 19,
   "id": "377f0092",
   "metadata": {
    "scrolled": false
   },
   "outputs": [],
   "source": [
    "# draw(ids, single_list[task_idx], label, task_idx, 120)\n",
    "# plt.savefig('./result/single_task_'+str(task_idx)+'.png', dpi=300)"
   ]
  },
  {
   "cell_type": "code",
   "execution_count": 21,
   "id": "6347d88b",
   "metadata": {
    "scrolled": false
   },
   "outputs": [],
   "source": [
    "# draw(ids, multi_list[task_idx], label, task_idx, 120)\n",
    "# plt.savefig('./result/multi_task_'+str(task_idx)+'.png', dpi=300)"
   ]
  },
  {
   "cell_type": "code",
   "execution_count": 24,
   "id": "7d8bb2dc",
   "metadata": {
    "scrolled": false
   },
   "outputs": [],
   "source": [
    "# NR / SR\n",
    "# if task_idx < 7:\n",
    "#     draw(ids, NR_list[task_idx], label, task_idx, 120)\n",
    "#     plt.savefig('./result/NR_task_'+str(task_idx)+'.png', dpi=300)\n",
    "# else:\n",
    "#     task_idx -= 7\n",
    "#     draw(ids, SR_list[task_idx], label, task_idx, 120)\n",
    "#     plt.savefig('./result/SR_task_'+str(task_idx)+'.png', dpi=300)"
   ]
  },
  {
   "cell_type": "code",
   "execution_count": 25,
   "id": "c6fe7512",
   "metadata": {},
   "outputs": [],
   "source": [
    "exit()"
   ]
  }
 ],
 "metadata": {
  "kernelspec": {
   "display_name": "Python 3",
   "language": "python",
   "name": "python3"
  },
  "language_info": {
   "codemirror_mode": {
    "name": "ipython",
    "version": 3
   },
   "file_extension": ".py",
   "mimetype": "text/x-python",
   "name": "python",
   "nbconvert_exporter": "python",
   "pygments_lexer": "ipython3",
   "version": "3.8.5"
  }
 },
 "nbformat": 4,
 "nbformat_minor": 5
}
